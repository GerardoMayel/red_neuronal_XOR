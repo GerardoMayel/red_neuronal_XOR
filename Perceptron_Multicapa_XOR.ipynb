{
  "nbformat": 4,
  "nbformat_minor": 0,
  "metadata": {
    "colab": {
      "name": "Perceptron Multicapa XOR.ipynb",
      "provenance": [],
      "collapsed_sections": [],
      "authorship_tag": "ABX9TyOSPllg9D7IeHW0rfj4W7Jh"
    },
    "kernelspec": {
      "name": "python3",
      "display_name": "Python 3"
    },
    "language_info": {
      "name": "python"
    }
  },
  "cells": [
    {
      "cell_type": "markdown",
      "metadata": {
        "id": "nqjzt_-3aaIm"
      },
      "source": [
        "<H1>Red Neuronal Para Resolver la Compuerta Lógica XOR<H1>"
      ]
    },
    {
      "cell_type": "code",
      "metadata": {
        "id": "JIRX1yeNUTCW"
      },
      "source": [
        "#Se importa Numpy, MLPCCLassifier y KNeighborsClassifier\n",
        "import numpy as np\n",
        "from sklearn.neural_network import MLPClassifier\n",
        "import matplotlib.pyplot as plt"
      ],
      "execution_count": 69,
      "outputs": []
    },
    {
      "cell_type": "markdown",
      "metadata": {
        "id": "zQds3wlEZl-Q"
      },
      "source": [
        "<H2>Dar click en el siguiente enlace para conocer la arquitectura propuesta de Red Neuronal<H2>"
      ]
    },
    {
      "cell_type": "markdown",
      "metadata": {
        "id": "G84nvYyOFISJ"
      },
      "source": [
        "[Diseño de Red Neuronal Propuesto para la Compuerta XOR](https://playground.tensorflow.org/#activation=tanh&batchSize=10&dataset=xor&regDataset=reg-plane&learningRate=0.03&regularizationRate=0&noise=0&networkShape=4,2&seed=0.35431&showTestData=false&discretize=false&percTrainData=50&x=false&y=false&xTimesY=true&xSquared=false&ySquared=false&cosX=false&sinX=false&cosY=false&sinY=false&collectStats=false&problem=classification&initZero=false&hideText=false)"
      ]
    },
    {
      "cell_type": "code",
      "metadata": {
        "id": "u6SnREN9UXP2"
      },
      "source": [
        "#un Arreglo con la tabla de la verdad\n",
        "# 0 0\n",
        "# 0 1\n",
        "# 1 0\n",
        "# 1 1\n",
        "X = np.array([\n",
        "    0, 0,\n",
        "    0, 1,\n",
        "    1, 0,\n",
        "    1, 1\n",
        "]).reshape(4, 2)"
      ],
      "execution_count": 41,
      "outputs": []
    },
    {
      "cell_type": "code",
      "metadata": {
        "colab": {
          "base_uri": "https://localhost:8080/"
        },
        "id": "8vbeFYM6Uo7h",
        "outputId": "75708514-2996-4f41-bb16-ef144b94a8e9"
      },
      "source": [
        "# Se muestra el arreglo\n",
        "X"
      ],
      "execution_count": 42,
      "outputs": [
        {
          "output_type": "execute_result",
          "data": {
            "text/plain": [
              "array([[0, 0],\n",
              "       [0, 1],\n",
              "       [1, 0],\n",
              "       [1, 1]])"
            ]
          },
          "metadata": {},
          "execution_count": 42
        }
      ]
    },
    {
      "cell_type": "code",
      "metadata": {
        "id": "ie9VqtlSU-AX"
      },
      "source": [
        "#Se muestra un arreglo conel resultado de hacer un XOR\n",
        "Y = np.array([0, 1, 1, 0]).reshape(4,)"
      ],
      "execution_count": 56,
      "outputs": []
    },
    {
      "cell_type": "code",
      "metadata": {
        "colab": {
          "base_uri": "https://localhost:8080/"
        },
        "id": "nTkG5hGgVA_y",
        "outputId": "86ed34a0-11b4-46cd-b698-452de40e5062"
      },
      "source": [
        "Y"
      ],
      "execution_count": 57,
      "outputs": [
        {
          "output_type": "execute_result",
          "data": {
            "text/plain": [
              "array([0, 1, 1, 0])"
            ]
          },
          "metadata": {},
          "execution_count": 57
        }
      ]
    },
    {
      "cell_type": "code",
      "metadata": {
        "id": "O2um2SuVVFX8"
      },
      "source": [
        "#Se crea el clasificador con la función de activación relu,con 10k iteraciones y tiene capaz ocultas 4,2\n",
        "model = MLPClassifier(activation='tanh', max_iter=10000, hidden_layer_sizes=(4,2))"
      ],
      "execution_count": 31,
      "outputs": []
    },
    {
      "cell_type": "code",
      "metadata": {
        "colab": {
          "base_uri": "https://localhost:8080/"
        },
        "id": "VsqB3BXCVIch",
        "outputId": "4eed1f90-b199-4040-f646-240617f181db"
      },
      "source": [
        "#Se entrena la red neuronal pasando los arreglos de entrada y de salida\n",
        "model.fit(X, Y)"
      ],
      "execution_count": 62,
      "outputs": [
        {
          "output_type": "execute_result",
          "data": {
            "text/plain": [
              "MLPClassifier(activation='tanh', alpha=0.0001, batch_size='auto', beta_1=0.9,\n",
              "              beta_2=0.999, early_stopping=False, epsilon=1e-08,\n",
              "              hidden_layer_sizes=(4, 2), learning_rate='constant',\n",
              "              learning_rate_init=0.001, max_fun=15000, max_iter=10000,\n",
              "              momentum=0.9, n_iter_no_change=10, nesterovs_momentum=True,\n",
              "              power_t=0.5, random_state=None, shuffle=True, solver='adam',\n",
              "              tol=0.0001, validation_fraction=0.1, verbose=False,\n",
              "              warm_start=False)"
            ]
          },
          "metadata": {},
          "execution_count": 62
        }
      ]
    },
    {
      "cell_type": "code",
      "metadata": {
        "colab": {
          "base_uri": "https://localhost:8080/"
        },
        "id": "qVqqxEPyVbuU",
        "outputId": "09d48f8c-684e-4fb4-c704-77951ad097df"
      },
      "source": [
        "print('Se espera la salida de la compuerta XOR:', np.array([0, 1, 1, 0]))"
      ],
      "execution_count": 63,
      "outputs": [
        {
          "output_type": "stream",
          "name": "stdout",
          "text": [
            "Se espera la salida de la compuerta XOR: [0 1 1 0]\n"
          ]
        }
      ]
    },
    {
      "cell_type": "code",
      "metadata": {
        "colab": {
          "base_uri": "https://localhost:8080/"
        },
        "id": "_RQYCeEHVLzM",
        "outputId": "a0ccc0b3-5a27-4ade-b047-2926163f2cb7"
      },
      "source": [
        "print('Salida de la Red Neuronal :', model.predict(X))"
      ],
      "execution_count": 64,
      "outputs": [
        {
          "output_type": "stream",
          "name": "stdout",
          "text": [
            "Salida de la Red Neuronal : [0 1 1 0]\n"
          ]
        }
      ]
    },
    {
      "cell_type": "code",
      "metadata": {
        "colab": {
          "base_uri": "https://localhost:8080/"
        },
        "id": "Vt9Pz6J_YSPT",
        "outputId": "80e8f80a-06d8-424f-a156-ec826520423c"
      },
      "source": [
        "model.loss_"
      ],
      "execution_count": 66,
      "outputs": [
        {
          "output_type": "execute_result",
          "data": {
            "text/plain": [
              "0.105031147654608"
            ]
          },
          "metadata": {},
          "execution_count": 66
        }
      ]
    },
    {
      "cell_type": "code",
      "metadata": {
        "colab": {
          "base_uri": "https://localhost:8080/",
          "height": 265
        },
        "id": "pdv9qL4mYWOB",
        "outputId": "a6f3b6da-f145-4eb1-816f-900ff79829a4"
      },
      "source": [
        "plt.plot(model.loss_curve_)\n",
        "plt.show()"
      ],
      "execution_count": 70,
      "outputs": [
        {
          "output_type": "display_data",
          "data": {
            "image/png": "[encoded data removed]",
            "text/plain": [
              "<Figure size 432x288 with 1 Axes>"
            ]
          },
          "metadata": {
            "needs_background": "light"
          }
        }
      ]
    },
    {
      "cell_type": "markdown",
      "metadata": {
        "id": "X5Jhe1oZaNNZ"
      },
      "source": [
        "<H4>Matriz de Pesos<H4>"
      ]
    },
    {
      "cell_type": "code",
      "metadata": {
        "colab": {
          "base_uri": "https://localhost:8080/"
        },
        "id": "6L_HaqHUYz_D",
        "outputId": "952e6318-8187-4fae-8c95-38f91e4a1b62"
      },
      "source": [
        "model.coefs_"
      ],
      "execution_count": 71,
      "outputs": [
        {
          "output_type": "execute_result",
          "data": {
            "text/plain": [
              "[array([[-1.41377024,  2.11000974,  1.29664873,  0.8110354 ],\n",
              "        [-1.89376615, -1.61856351, -1.93539772, -0.51873949]]),\n",
              " array([[ 1.03844668, -0.12808241],\n",
              "        [ 2.03054632, -1.097049  ],\n",
              "        [-1.91782723, -1.47752767],\n",
              "        [ 0.3608333 , -0.98452274]]),\n",
              " array([[-2.15094888],\n",
              "        [-1.47782126]])]"
            ]
          },
          "metadata": {},
          "execution_count": 71
        }
      ]
    },
    {
      "cell_type": "code",
      "metadata": {
        "colab": {
          "base_uri": "https://localhost:8080/"
        },
        "id": "yPu2FMoNZMJi",
        "outputId": "03999ba6-d2bc-4b32-b8aa-b8673df1b4fd"
      },
      "source": [
        "model.n_layers_"
      ],
      "execution_count": 72,
      "outputs": [
        {
          "output_type": "execute_result",
          "data": {
            "text/plain": [
              "4"
            ]
          },
          "metadata": {},
          "execution_count": 72
        }
      ]
    }
  ]
}